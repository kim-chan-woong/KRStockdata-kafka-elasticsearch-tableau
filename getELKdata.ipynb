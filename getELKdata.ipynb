{
 "cells": [
  {
   "cell_type": "code",
   "execution_count": null,
   "metadata": {},
   "outputs": [],
   "source": [
    "from elasticsearch import Elasticsearch\n",
    "import pandas as pd\n",
    "import json\n",
    "\n",
    "es = Elasticsearch('192.168.56.130:9200')\n",
    "\n",
    "# 원하는 컬럼만 추출\n",
    "index = 'nifi-elk'\n",
    "body = '''{\n",
    "    \"query\": {\n",
    "    \"range\": {\n",
    "        \"Date\": {\n",
    "        \"gte\": \"2020-01-01\",\n",
    "        \"lte\": \"2020-12-31\",\n",
    "    \"boost\": 2.0\n",
    "    }\n",
    "   }\n",
    "},\n",
    "  \"_source\": [\"Code\",\"Name\",\"Marcap\",\"Rank\",\"Date\"],\n",
    "  \"from\": 0,\n",
    "  \"size\": 10000\n",
    "}'''\n",
    "res = es.search(index=index, body=body)\n",
    "data = res['hits']['hits']\n",
    "json_data = {\n",
    "    'Code': [],\n",
    "    'Name' : [],\n",
    "    'Marcap' : [],\n",
    "    'Rank' : [],\n",
    "    'Date' : []\n",
    "}\n",
    "for i in range(0,len(data)):\n",
    "    json_data['Code'].append(res['hits']['hits'][i]['_source']['Code'])\n",
    "    json_data['Name'].append(res['hits']['hits'][i]['_source']['Name'])\n",
    "    json_data['Marcap'].append(res['hits']['hits'][i]['_source']['Marcap'])\n",
    "    json_data['Rank'].append(res['hits']['hits'][i]['_source']['Rank'])\n",
    "    json_data['Date'].append(res['hits']['hits'][i]['_source']['Date'])\n",
    "    \n",
    "df = pd.DataFrame(json_data)\n",
    "df.to_csv('/root/KR2020marcap.csv', mode='w', encoding='utf-8-sig', index=None)"
   ]
  },
  {
   "cell_type": "code",
   "execution_count": null,
   "metadata": {
    "scrolled": true
   },
   "outputs": [],
   "source": [
    "import pandas as pd\n",
    "import glob\n",
    "import os\n",
    "\n",
    "input_file = '/root'\n",
    "\n",
    "allFile_list = glob.glob(os.path.join(input_file, 'KR*'))\n",
    "print(allFile_list)\n",
    "allData = []\n",
    "for file in allFile_list:\n",
    "    df = pd.read_csv(file)\n",
    "    allData.append(df)\n",
    "\n",
    "dataCombine = pd.concat(allData, axis=0, ignore_index=True)\n",
    "data=dataCombine.to_dict('records')\n",
    "with open('/root/result.json', 'w', encoding='UTF-8-sig') as file:\n",
    "     file.write(json.dumps(data, ensure_ascii=False))"
   ]
  }
 ],
 "metadata": {
  "kernelspec": {
   "display_name": "Python 3",
   "language": "python",
   "name": "python3"
  },
  "language_info": {
   "codemirror_mode": {
    "name": "ipython",
    "version": 3
   },
   "file_extension": ".py",
   "mimetype": "text/x-python",
   "name": "python",
   "nbconvert_exporter": "python",
   "pygments_lexer": "ipython3",
   "version": "3.8.5"
  }
 },
 "nbformat": 4,
 "nbformat_minor": 4
}
