{
 "cells": [
  {
   "cell_type": "code",
   "execution_count": null,
   "metadata": {},
   "outputs": [],
   "source": [
    "!python --version"
   ]
  },
  {
   "cell_type": "code",
   "execution_count": null,
   "metadata": {},
   "outputs": [],
   "source": [
    "from marcap import marcap_data\n",
    "from kafka import KafkaProducer\n",
    "from json import dumps\n",
    "import time\n",
    "import pandas as pd\n",
    "\n",
    "# 카프카 프로듀서 객체 생성\n",
    "producer = KafkaProducer(acks=0, \n",
    "                         bootstrap_servers=['ka01:9092', 'ka02:9092', 'ka03:9092'],\n",
    "                         value_serializer=lambda x: dumps(x, ensure_ascii = False).encode('utf-8'))\n",
    "dt_index=pd.date_range(start='1995-05-02', end='2020-12-31')\n",
    "dt_list=dt_index.strftime(\"%Y-%m-%d\").tolist()\n",
    "start = time.time()\n",
    "\n",
    "# 일별 국내 시가총액 TOP 20 json 데이터 생성\n",
    "for i in dt_list:\n",
    "    df = marcap_data(i)\n",
    "    \n",
    "    # 주식 장이 열리지 않은 날은 빈 값이므로 생략\n",
    "    if len(df.values) == 0:\n",
    "        print(i+\"데이터 없음\")\n",
    "    \n",
    "    else:\n",
    "        # 20위까지\n",
    "        df2=df[(df['Rank'] <= 20)]\n",
    "        # all Nan이어서 삭제\n",
    "        df3=df2.drop(['Dept'], axis=1)\n",
    "        data=df3.to_dict('records')\n",
    "\n",
    "        for j in data:\n",
    "            j['Date']=i\n",
    "            producer.send('Stock_Data', value=j)\n",
    "            producer.flush()\n",
    "            \n",
    "# 초당 몇 건 처리하였는지 확인\n",
    "print(\"elapsed :\", time.time() - start)"
   ]
  }
 ],
 "metadata": {
  "kernelspec": {
   "display_name": "Python 3",
   "language": "python",
   "name": "python3"
  },
  "language_info": {
   "codemirror_mode": {
    "name": "ipython",
    "version": 3
   },
   "file_extension": ".py",
   "mimetype": "text/x-python",
   "name": "python",
   "nbconvert_exporter": "python",
   "pygments_lexer": "ipython3",
   "version": "3.8.5"
  }
 },
 "nbformat": 4,
 "nbformat_minor": 4
}
